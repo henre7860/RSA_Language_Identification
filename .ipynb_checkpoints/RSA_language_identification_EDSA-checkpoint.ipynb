{
 "cells": [
  {
   "cell_type": "markdown",
   "id": "8ddffc7d",
   "metadata": {},
   "source": [
    "https://github.com/daniel-bru/Classification-Hackathon-EDSA/blob/main/Daniel_Bruintjies_Classification_Hackathon.ipynb"
   ]
  },
  {
   "cell_type": "code",
   "execution_count": 21,
   "id": "f98c0ecf",
   "metadata": {},
   "outputs": [],
   "source": [
    "# Import packages\n",
    "\n",
    "# Database manipulation\n",
    "import pandas as pd\n",
    "import numpy as np\n",
    "\n",
    "# Visualization\n",
    "import matplotlib.pyplot as plt\n",
    "import seaborn as sns\n",
    "%matplotlib inline\n",
    "\n",
    "\n",
    "# Natural language Toolkit packages.\n",
    "# Necessary libraries and modules that are \n",
    "# going to help us do the data processing \n",
    "# from the nltk library.\n",
    "import nltk\n",
    "\n",
    "# Regular expression\n",
    "import re\n",
    "\n",
    "# to make bag of words\n",
    "from sklearn.feature_extraction.text import CountVectorizer,TfidfVectorizer\n",
    "\n",
    "\n",
    "# Packages to create models\n",
    "from sklearn.naive_bayes import MultinomialNB\n",
    "from sklearn.linear_model import LogisticRegression, RidgeClassifier\n",
    "\n",
    "from sklearn.svm import LinearSVC  \n",
    "from sklearn.ensemble import RandomForestClassifier\n",
    "from sklearn.neighbors import KNeighborsClassifier\n",
    "from sklearn.model_selection import train_test_split\n",
    "from sklearn.metrics import f1_score\n",
    "\n",
    "\n",
    "# Save trained models\n",
    "import pickle\n",
    "\n",
    "\n",
    "import warnings\n",
    "warnings.filterwarnings('ignore')"
   ]
  },
  {
   "cell_type": "code",
   "execution_count": 3,
   "id": "91370d0a",
   "metadata": {},
   "outputs": [],
   "source": [
    "# Import dataset\n",
    "\n",
    "df = pd.read_csv(\"data/train_set.csv\")\n",
    "pd.set_option('display.max_colwidth',None)"
   ]
  },
  {
   "cell_type": "code",
   "execution_count": 85,
   "id": "63fdf259",
   "metadata": {},
   "outputs": [
    {
     "data": {
      "text/html": [
       "<div>\n",
       "<style scoped>\n",
       "    .dataframe tbody tr th:only-of-type {\n",
       "        vertical-align: middle;\n",
       "    }\n",
       "\n",
       "    .dataframe tbody tr th {\n",
       "        vertical-align: top;\n",
       "    }\n",
       "\n",
       "    .dataframe thead th {\n",
       "        text-align: right;\n",
       "    }\n",
       "</style>\n",
       "<table border=\"1\" class=\"dataframe\">\n",
       "  <thead>\n",
       "    <tr style=\"text-align: right;\">\n",
       "      <th></th>\n",
       "      <th>lang_id</th>\n",
       "      <th>text</th>\n",
       "    </tr>\n",
       "  </thead>\n",
       "  <tbody>\n",
       "    <tr>\n",
       "      <th>0</th>\n",
       "      <td>xho</td>\n",
       "      <td>umgaqo-siseko wenza amalungiselelo kumaziko axhasa ulawulo lwesininzi kunye nokuthath inxaxheba kwabafazi ezi ziquka phakathi kwezinye zazo ikomishoni yokulingana ngokwesini ikomishoni yamalungelo oluntu lomzantsi afrika</td>\n",
       "    </tr>\n",
       "    <tr>\n",
       "      <th>1</th>\n",
       "      <td>xho</td>\n",
       "      <td>i-dha iya kuba nobulumko bokubeka umsebenzi naphi na kwisebe ngokusekwe kwiimfuno zokusebenza zalo emva kokubonana nomsebenzi kunye okanye imanyano yakhe ukuba ulandulo lomntu onjalo alufanelekanga i-dha mayibize uncedo olufanelekileyo elungelweni layo</td>\n",
       "    </tr>\n",
       "    <tr>\n",
       "      <th>2</th>\n",
       "      <td>eng</td>\n",
       "      <td>the province of kwazulu-natal department of transport invites tenders from established contractors experienced in bridge construction for the construction of the kwajolwayo tugela river pedestrian bridge near tugela ferry the duration of the project will be months</td>\n",
       "    </tr>\n",
       "    <tr>\n",
       "      <th>3</th>\n",
       "      <td>nso</td>\n",
       "      <td>o netefatša gore o ba file dilo ka moka tše le dumelelanego ka tšona mohlala maleri a magolo a a šomišwago go fihlelela meagong e metelele scaffolds a a bolokegilego lefelo la maleba la go šomela go phela gabotse bjbj</td>\n",
       "    </tr>\n",
       "    <tr>\n",
       "      <th>4</th>\n",
       "      <td>ven</td>\n",
       "      <td>khomishini ya ndinganyiso ya mbeu yo ewa maana u ya nga mulayo wa khomishini ya ndinganyiso ya mbeu u thetshelesa mbilaelo dzine dza tshimbilelana na tshialula u ya nga mbeu nahone i ivhea sa foramu ya thungo u ya nga mulayo wa ndinganyiso</td>\n",
       "    </tr>\n",
       "  </tbody>\n",
       "</table>\n",
       "</div>"
      ],
      "text/plain": [
       "  lang_id  \\\n",
       "0     xho   \n",
       "1     xho   \n",
       "2     eng   \n",
       "3     nso   \n",
       "4     ven   \n",
       "\n",
       "                                                                                                                                                                                                                                                                       text  \n",
       "0                                              umgaqo-siseko wenza amalungiselelo kumaziko axhasa ulawulo lwesininzi kunye nokuthath inxaxheba kwabafazi ezi ziquka phakathi kwezinye zazo ikomishoni yokulingana ngokwesini ikomishoni yamalungelo oluntu lomzantsi afrika  \n",
       "1              i-dha iya kuba nobulumko bokubeka umsebenzi naphi na kwisebe ngokusekwe kwiimfuno zokusebenza zalo emva kokubonana nomsebenzi kunye okanye imanyano yakhe ukuba ulandulo lomntu onjalo alufanelekanga i-dha mayibize uncedo olufanelekileyo elungelweni layo  \n",
       "2  the province of kwazulu-natal department of transport invites tenders from established contractors experienced in bridge construction for the construction of the kwajolwayo tugela river pedestrian bridge near tugela ferry the duration of the project will be months  \n",
       "3                                                 o netefatša gore o ba file dilo ka moka tše le dumelelanego ka tšona mohlala maleri a magolo a a šomišwago go fihlelela meagong e metelele scaffolds a a bolokegilego lefelo la maleba la go šomela go phela gabotse bjbj  \n",
       "4                           khomishini ya ndinganyiso ya mbeu yo ewa maana u ya nga mulayo wa khomishini ya ndinganyiso ya mbeu u thetshelesa mbilaelo dzine dza tshimbilelana na tshialula u ya nga mbeu nahone i ivhea sa foramu ya thungo u ya nga mulayo wa ndinganyiso  "
      ]
     },
     "execution_count": 85,
     "metadata": {},
     "output_type": "execute_result"
    }
   ],
   "source": [
    "df.head()"
   ]
  },
  {
   "cell_type": "code",
   "execution_count": 86,
   "id": "dd1c54a6",
   "metadata": {},
   "outputs": [],
   "source": [
    "## EDA"
   ]
  },
  {
   "cell_type": "code",
   "execution_count": 87,
   "id": "04800c3f",
   "metadata": {},
   "outputs": [
    {
     "name": "stdout",
     "output_type": "stream",
     "text": [
      "<class 'pandas.core.frame.DataFrame'>\n",
      "RangeIndex: 33000 entries, 0 to 32999\n",
      "Data columns (total 2 columns):\n",
      " #   Column   Non-Null Count  Dtype \n",
      "---  ------   --------------  ----- \n",
      " 0   lang_id  33000 non-null  object\n",
      " 1   text     33000 non-null  object\n",
      "dtypes: object(2)\n",
      "memory usage: 515.8+ KB\n"
     ]
    }
   ],
   "source": [
    "df.info()"
   ]
  },
  {
   "cell_type": "code",
   "execution_count": 88,
   "id": "f9bb9825",
   "metadata": {},
   "outputs": [
    {
     "data": {
      "text/plain": [
       "(33000, 2)"
      ]
     },
     "execution_count": 88,
     "metadata": {},
     "output_type": "execute_result"
    }
   ],
   "source": [
    "df.shape"
   ]
  },
  {
   "cell_type": "code",
   "execution_count": 89,
   "id": "526bcbd8",
   "metadata": {},
   "outputs": [
    {
     "data": {
      "text/plain": [
       "lang_id    0\n",
       "text       0\n",
       "dtype: int64"
      ]
     },
     "execution_count": 89,
     "metadata": {},
     "output_type": "execute_result"
    }
   ],
   "source": [
    "df.isnull().sum()"
   ]
  },
  {
   "cell_type": "code",
   "execution_count": 90,
   "id": "f15b472e",
   "metadata": {},
   "outputs": [
    {
     "data": {
      "text/plain": [
       "nbl    3000\n",
       "sot    3000\n",
       "ven    3000\n",
       "zul    3000\n",
       "nso    3000\n",
       "tso    3000\n",
       "afr    3000\n",
       "ssw    3000\n",
       "tsn    3000\n",
       "eng    3000\n",
       "xho    3000\n",
       "Name: lang_id, dtype: int64"
      ]
     },
     "execution_count": 90,
     "metadata": {},
     "output_type": "execute_result"
    }
   ],
   "source": [
    "df['lang_id'].value_counts()"
   ]
  },
  {
   "cell_type": "code",
   "execution_count": 91,
   "id": "7547120d",
   "metadata": {},
   "outputs": [
    {
     "data": {
      "text/plain": [
       "array(['xho', 'eng', 'nso', 'ven', 'tsn', 'nbl', 'zul', 'ssw', 'tso',\n",
       "       'sot', 'afr'], dtype=object)"
      ]
     },
     "execution_count": 91,
     "metadata": {},
     "output_type": "execute_result"
    }
   ],
   "source": [
    "df['lang_id'].unique()"
   ]
  },
  {
   "cell_type": "code",
   "execution_count": 92,
   "id": "148da23e",
   "metadata": {},
   "outputs": [],
   "source": [
    "xho = df[df['lang_id'] == 'xho']\n",
    "eng = df[df['lang_id'] == 'eng']\n",
    "nso = df[df['lang_id'] == 'nso']\n",
    "ven = df[df['lang_id'] == 'ven']\n",
    "tsn = df[df['lang_id'] == 'tsn']\n",
    "nbl = df[df['lang_id'] == 'nbl']\n",
    "zul = df[df['lang_id'] == 'zul']\n",
    "ssw = df[df['lang_id'] == 'ssw']\n",
    "tso = df[df['lang_id'] == 'tso']\n",
    "sot = df[df['lang_id'] == 'sot']\n",
    "afr = df[df['lang_id'] == 'afr']"
   ]
  },
  {
   "cell_type": "code",
   "execution_count": 93,
   "id": "6472f6bd",
   "metadata": {},
   "outputs": [],
   "source": [
    "# Create wordcloud per language"
   ]
  },
  {
   "cell_type": "code",
   "execution_count": 94,
   "id": "5ce86c11",
   "metadata": {},
   "outputs": [
    {
     "data": {
      "text/plain": [
       "<AxesSubplot:ylabel='lang_id'>"
      ]
     },
     "execution_count": 94,
     "metadata": {},
     "output_type": "execute_result"
    },
    {
     "data": {
      "image/png": "[encoded data removed]",
      "text/plain": [
       "<Figure size 432x288 with 1 Axes>"
      ]
     },
     "metadata": {},
     "output_type": "display_data"
    }
   ],
   "source": [
    "df['lang_id'].value_counts().plot(kind='pie', autopct='%1.0f%%')"
   ]
  },
  {
   "cell_type": "code",
   "execution_count": null,
   "id": "776f42c9",
   "metadata": {},
   "outputs": [],
   "source": [
    "# Data Processing"
   ]
  },
  {
   "cell_type": "code",
   "execution_count": 4,
   "id": "9f140081",
   "metadata": {},
   "outputs": [],
   "source": [
    "def clean_data(df):\n",
    "    \"\"\" \n",
    "    This function cleans text data.\n",
    "    \n",
    "    \n",
    "    \"\"\"\n",
    "    \n",
    "    \n",
    "    clean_list = []\n",
    "    \n",
    "    for i in range(len(df)):\n",
    "        # Transform all the data to lowercase\n",
    "        tweet=df.iloc[i].lower()\n",
    "        \n",
    "        # Remove digits and puntuation from the data.\n",
    "        tweet = re.sub(r'[-]',' ',tweet)\n",
    "        tweet = re.sub(r'[_]', ' ', tweet)\n",
    "        tweet = re.sub(r'[^\\w\\s]','',tweet)\n",
    "        tweet = re.sub('[0-9]+', '', tweet)\n",
    "                \n",
    "        # Remove whitespaces for, the data\n",
    "        tweet = re.sub(\"\\\\s+\", \" \", tweet)\n",
    "        tweet = tweet.lstrip() \n",
    "        tweet = tweet.rstrip()\n",
    "       \n",
    "        clean_list.append(tweet)  # Creates a list of the cleaned tweets.\n",
    "        \n",
    "    return clean_list"
   ]
  },
  {
   "cell_type": "code",
   "execution_count": 5,
   "id": "22f2e12f",
   "metadata": {},
   "outputs": [],
   "source": [
    "X = df['text']\n",
    "y = df['lang_id']"
   ]
  },
  {
   "cell_type": "code",
   "execution_count": 6,
   "id": "c1197672",
   "metadata": {},
   "outputs": [],
   "source": [
    "data = clean_data(X)"
   ]
  },
  {
   "cell_type": "code",
   "execution_count": 7,
   "id": "5a3a8bc1",
   "metadata": {},
   "outputs": [],
   "source": [
    "df['text_clean'] = data"
   ]
  },
  {
   "cell_type": "code",
   "execution_count": 8,
   "id": "c2fa233d",
   "metadata": {},
   "outputs": [
    {
     "data": {
      "text/html": [
       "<div>\n",
       "<style scoped>\n",
       "    .dataframe tbody tr th:only-of-type {\n",
       "        vertical-align: middle;\n",
       "    }\n",
       "\n",
       "    .dataframe tbody tr th {\n",
       "        vertical-align: top;\n",
       "    }\n",
       "\n",
       "    .dataframe thead th {\n",
       "        text-align: right;\n",
       "    }\n",
       "</style>\n",
       "<table border=\"1\" class=\"dataframe\">\n",
       "  <thead>\n",
       "    <tr style=\"text-align: right;\">\n",
       "      <th></th>\n",
       "      <th>lang_id</th>\n",
       "      <th>text</th>\n",
       "      <th>text_clean</th>\n",
       "    </tr>\n",
       "  </thead>\n",
       "  <tbody>\n",
       "    <tr>\n",
       "      <th>0</th>\n",
       "      <td>xho</td>\n",
       "      <td>umgaqo-siseko wenza amalungiselelo kumaziko axhasa ulawulo lwesininzi kunye nokuthath inxaxheba kwabafazi ezi ziquka phakathi kwezinye zazo ikomishoni yokulingana ngokwesini ikomishoni yamalungelo oluntu lomzantsi afrika</td>\n",
       "      <td>umgaqo siseko wenza amalungiselelo kumaziko axhasa ulawulo lwesininzi kunye nokuthath inxaxheba kwabafazi ezi ziquka phakathi kwezinye zazo ikomishoni yokulingana ngokwesini ikomishoni yamalungelo oluntu lomzantsi afrika</td>\n",
       "    </tr>\n",
       "    <tr>\n",
       "      <th>1</th>\n",
       "      <td>xho</td>\n",
       "      <td>i-dha iya kuba nobulumko bokubeka umsebenzi naphi na kwisebe ngokusekwe kwiimfuno zokusebenza zalo emva kokubonana nomsebenzi kunye okanye imanyano yakhe ukuba ulandulo lomntu onjalo alufanelekanga i-dha mayibize uncedo olufanelekileyo elungelweni layo</td>\n",
       "      <td>i dha iya kuba nobulumko bokubeka umsebenzi naphi na kwisebe ngokusekwe kwiimfuno zokusebenza zalo emva kokubonana nomsebenzi kunye okanye imanyano yakhe ukuba ulandulo lomntu onjalo alufanelekanga i dha mayibize uncedo olufanelekileyo elungelweni layo</td>\n",
       "    </tr>\n",
       "    <tr>\n",
       "      <th>2</th>\n",
       "      <td>eng</td>\n",
       "      <td>the province of kwazulu-natal department of transport invites tenders from established contractors experienced in bridge construction for the construction of the kwajolwayo tugela river pedestrian bridge near tugela ferry the duration of the project will be months</td>\n",
       "      <td>the province of kwazulu natal department of transport invites tenders from established contractors experienced in bridge construction for the construction of the kwajolwayo tugela river pedestrian bridge near tugela ferry the duration of the project will be months</td>\n",
       "    </tr>\n",
       "    <tr>\n",
       "      <th>3</th>\n",
       "      <td>nso</td>\n",
       "      <td>o netefatša gore o ba file dilo ka moka tše le dumelelanego ka tšona mohlala maleri a magolo a a šomišwago go fihlelela meagong e metelele scaffolds a a bolokegilego lefelo la maleba la go šomela go phela gabotse bjbj</td>\n",
       "      <td>o netefatša gore o ba file dilo ka moka tše le dumelelanego ka tšona mohlala maleri a magolo a a šomišwago go fihlelela meagong e metelele scaffolds a a bolokegilego lefelo la maleba la go šomela go phela gabotse bjbj</td>\n",
       "    </tr>\n",
       "    <tr>\n",
       "      <th>4</th>\n",
       "      <td>ven</td>\n",
       "      <td>khomishini ya ndinganyiso ya mbeu yo ewa maana u ya nga mulayo wa khomishini ya ndinganyiso ya mbeu u thetshelesa mbilaelo dzine dza tshimbilelana na tshialula u ya nga mbeu nahone i ivhea sa foramu ya thungo u ya nga mulayo wa ndinganyiso</td>\n",
       "      <td>khomishini ya ndinganyiso ya mbeu yo ewa maana u ya nga mulayo wa khomishini ya ndinganyiso ya mbeu u thetshelesa mbilaelo dzine dza tshimbilelana na tshialula u ya nga mbeu nahone i ivhea sa foramu ya thungo u ya nga mulayo wa ndinganyiso</td>\n",
       "    </tr>\n",
       "  </tbody>\n",
       "</table>\n",
       "</div>"
      ],
      "text/plain": [
       "  lang_id  \\\n",
       "0     xho   \n",
       "1     xho   \n",
       "2     eng   \n",
       "3     nso   \n",
       "4     ven   \n",
       "\n",
       "                                                                                                                                                                                                                                                                       text  \\\n",
       "0                                              umgaqo-siseko wenza amalungiselelo kumaziko axhasa ulawulo lwesininzi kunye nokuthath inxaxheba kwabafazi ezi ziquka phakathi kwezinye zazo ikomishoni yokulingana ngokwesini ikomishoni yamalungelo oluntu lomzantsi afrika   \n",
       "1              i-dha iya kuba nobulumko bokubeka umsebenzi naphi na kwisebe ngokusekwe kwiimfuno zokusebenza zalo emva kokubonana nomsebenzi kunye okanye imanyano yakhe ukuba ulandulo lomntu onjalo alufanelekanga i-dha mayibize uncedo olufanelekileyo elungelweni layo   \n",
       "2  the province of kwazulu-natal department of transport invites tenders from established contractors experienced in bridge construction for the construction of the kwajolwayo tugela river pedestrian bridge near tugela ferry the duration of the project will be months   \n",
       "3                                                 o netefatša gore o ba file dilo ka moka tše le dumelelanego ka tšona mohlala maleri a magolo a a šomišwago go fihlelela meagong e metelele scaffolds a a bolokegilego lefelo la maleba la go šomela go phela gabotse bjbj   \n",
       "4                           khomishini ya ndinganyiso ya mbeu yo ewa maana u ya nga mulayo wa khomishini ya ndinganyiso ya mbeu u thetshelesa mbilaelo dzine dza tshimbilelana na tshialula u ya nga mbeu nahone i ivhea sa foramu ya thungo u ya nga mulayo wa ndinganyiso   \n",
       "\n",
       "                                                                                                                                                                                                                                                                 text_clean  \n",
       "0                                              umgaqo siseko wenza amalungiselelo kumaziko axhasa ulawulo lwesininzi kunye nokuthath inxaxheba kwabafazi ezi ziquka phakathi kwezinye zazo ikomishoni yokulingana ngokwesini ikomishoni yamalungelo oluntu lomzantsi afrika  \n",
       "1              i dha iya kuba nobulumko bokubeka umsebenzi naphi na kwisebe ngokusekwe kwiimfuno zokusebenza zalo emva kokubonana nomsebenzi kunye okanye imanyano yakhe ukuba ulandulo lomntu onjalo alufanelekanga i dha mayibize uncedo olufanelekileyo elungelweni layo  \n",
       "2  the province of kwazulu natal department of transport invites tenders from established contractors experienced in bridge construction for the construction of the kwajolwayo tugela river pedestrian bridge near tugela ferry the duration of the project will be months  \n",
       "3                                                 o netefatša gore o ba file dilo ka moka tše le dumelelanego ka tšona mohlala maleri a magolo a a šomišwago go fihlelela meagong e metelele scaffolds a a bolokegilego lefelo la maleba la go šomela go phela gabotse bjbj  \n",
       "4                           khomishini ya ndinganyiso ya mbeu yo ewa maana u ya nga mulayo wa khomishini ya ndinganyiso ya mbeu u thetshelesa mbilaelo dzine dza tshimbilelana na tshialula u ya nga mbeu nahone i ivhea sa foramu ya thungo u ya nga mulayo wa ndinganyiso  "
      ]
     },
     "execution_count": 8,
     "metadata": {},
     "output_type": "execute_result"
    }
   ],
   "source": [
    "df.head()"
   ]
  },
  {
   "cell_type": "code",
   "execution_count": 27,
   "id": "fff00f7c",
   "metadata": {},
   "outputs": [],
   "source": [
    "# Split data\n",
    "\n",
    "X = data\n",
    "y = df['lang_id']\n",
    "\n",
    "\n",
    "# Split 1 (All data with no scaling)\n",
    "X_train, X_test, y_train, y_test = train_test_split(X, y, test_size=0.3 , random_state = 42)\n"
   ]
  },
  {
   "cell_type": "code",
   "execution_count": null,
   "id": "bfa09fa4",
   "metadata": {},
   "outputs": [],
   "source": []
  },
  {
   "cell_type": "code",
   "execution_count": 28,
   "id": "db243d6b",
   "metadata": {},
   "outputs": [],
   "source": [
    "#Fit CountVectorizer\n",
    "\n",
    "count_vector_2 = TfidfVectorizer( max_df=0.9, ngram_range=(1, 5), analyzer= 'char',max_features=10000)\n",
    "#(min_df=2,max_df=0.9,ngram_range=(3, 6), analyzer='char')\n",
    "\n",
    "X_train = count_vector_2.fit_transform(X_train).toarray()\n",
    "X_test = count_vector_2.transform(X_test).toarray()"
   ]
  },
  {
   "cell_type": "code",
   "execution_count": 29,
   "id": "6bd8da5e",
   "metadata": {},
   "outputs": [],
   "source": [
    "### Create models"
   ]
  },
  {
   "cell_type": "code",
   "execution_count": 30,
   "id": "12c01e1c",
   "metadata": {
    "scrolled": true
   },
   "outputs": [
    {
     "name": "stdout",
     "output_type": "stream",
     "text": [
      "macro f1 score: 0.9989748558212916\n"
     ]
    }
   ],
   "source": [
    "# Initialize model\n",
    "\n",
    "MNB_model_1 = MultinomialNB(alpha=0.1)\n",
    "# (alpha=0.1)\n",
    "\n",
    "# Fit the model\n",
    "MNB_model_1.fit(X_train, y_train)\n",
    "#Create Predition\n",
    "y_pred_1 = MNB_model_1.predict(X_test)\n",
    "\n",
    "\n",
    "\n",
    "f1score_1 = f1_score(y_test, y_pred_1, average= 'macro')\n",
    "print('macro f1 score:', f1score_1)\n",
    "# Standard = macro f1 score: 0.993192\n",
    "# HP (alpha=0.01) = 0.9939039\n",
    "# alpha=0.06 = f1 score: 0.99400823"
   ]
  },
  {
   "cell_type": "code",
   "execution_count": 31,
   "id": "3a711899",
   "metadata": {},
   "outputs": [
    {
     "name": "stdout",
     "output_type": "stream",
     "text": [
      "macro f1 score: 0.9978407391670158\n"
     ]
    }
   ],
   "source": [
    "LR_model_1 = LogisticRegression()\n",
    "\n",
    "LR_model_1.fit(X_train, y_train)\n",
    "y_pred_2 = LR_model_1.predict(X_test)\n",
    "\n",
    "\n",
    "f1score_2 = f1_score(y_test, y_pred_2, average= 'macro')\n",
    "print('macro f1 score:', f1score_2)\n",
    "# Standard = macro f1 score: 0.988152\n",
    "# HP (penalty='l2', C=100, solver='newton-cg') = macro f1 score: 0.9853734"
   ]
  },
  {
   "cell_type": "code",
   "execution_count": 32,
   "id": "b3c6a391",
   "metadata": {},
   "outputs": [
    {
     "name": "stdout",
     "output_type": "stream",
     "text": [
      "macro f1 score: 0.9989745815008203\n"
     ]
    }
   ],
   "source": [
    "linear_svc_model_1 = LinearSVC(C=0.9, random_state=1)\n",
    "# (C=0.9, random_state=1)\n",
    "\n",
    "linear_svc_model_1.fit(X_train, y_train)\n",
    "y_pred_3 = linear_svc_model_1.predict(X_test)\n",
    "\n",
    "f1score_3 = f1_score(y_test, y_pred_3, average= 'macro')\n",
    "print('macro f1 score:', f1score_3)\n",
    "# Standard = macro f1 score: 0.9870048"
   ]
  },
  {
   "cell_type": "code",
   "execution_count": 33,
   "id": "b3a0f6b6",
   "metadata": {},
   "outputs": [
    {
     "name": "stdout",
     "output_type": "stream",
     "text": [
      "macro f1 score: 0.9505252921727995\n"
     ]
    }
   ],
   "source": [
    "\n",
    "knn_model_1 = KNeighborsClassifier(n_neighbors=1,weights='uniform',metric='euclidean')\n",
    "\n",
    "knn_model_1.fit(X_train, y_train)\n",
    "y_pred_4 = knn_model_1.predict(X_test)\n",
    "\n",
    "f1score_4 = f1_score(y_test, y_pred_4, average= 'macro')\n",
    "print('macro f1 score:', f1score_4)\n",
    "\n",
    "# Standard = macro f1 score: 0.8004099\n",
    "# HP (n_neighbors=1,weights='uniform',metric='euclidean') =macro f1 score: 0.8267344143"
   ]
  },
  {
   "cell_type": "code",
   "execution_count": 43,
   "id": "b51c29de",
   "metadata": {},
   "outputs": [
    {
     "name": "stdout",
     "output_type": "stream",
     "text": [
      "macro f1 score: 0.9993894391827347\n"
     ]
    }
   ],
   "source": [
    "RidgeC_model_1 = RidgeClassifier(alpha=0.2125)\n",
    "#(alpha=0.2125)\n",
    "\n",
    "RidgeC_model_1.fit(X_train, y_train)\n",
    "y_pred_5 = RidgeC_model_1.predict(X_test)\n",
    "\n",
    "f1score_5 = f1_score(y_test, y_pred_5, average= 'macro')\n",
    "print('macro f1 score:', f1score_5)\n",
    "\n",
    "# Standard = macro f1 score: 0.9882502\n",
    "# HP (alpha=0.1) = macro f1 score: 0.987938"
   ]
  },
  {
   "cell_type": "code",
   "execution_count": null,
   "id": "9dbf07a9",
   "metadata": {},
   "outputs": [],
   "source": []
  },
  {
   "cell_type": "code",
   "execution_count": null,
   "id": "60b26758",
   "metadata": {},
   "outputs": [],
   "source": []
  },
  {
   "cell_type": "code",
   "execution_count": 36,
   "id": "43321de4",
   "metadata": {},
   "outputs": [],
   "source": [
    "model_comp = {'model_name' : ['MultinomialNB_1', 'LogisticRegression_1',\n",
    "                               'LinearSVC_1',\n",
    "                             'KNN_1', 'RidgeC_model_1'\n",
    "                             ],\n",
    "                   'f1_score' : [f1score_1, f1score_2, f1score_3 ,f1score_4,\n",
    "                                f1score_5\n",
    "                                ]\n",
    "                                 }\n",
    "\n",
    "\n",
    "model_comp_df = pd.DataFrame(model_comp)"
   ]
  },
  {
   "cell_type": "code",
   "execution_count": 37,
   "id": "5e89b420",
   "metadata": {},
   "outputs": [
    {
     "data": {
      "text/html": [
       "<div>\n",
       "<style scoped>\n",
       "    .dataframe tbody tr th:only-of-type {\n",
       "        vertical-align: middle;\n",
       "    }\n",
       "\n",
       "    .dataframe tbody tr th {\n",
       "        vertical-align: top;\n",
       "    }\n",
       "\n",
       "    .dataframe thead th {\n",
       "        text-align: right;\n",
       "    }\n",
       "</style>\n",
       "<table border=\"1\" class=\"dataframe\">\n",
       "  <thead>\n",
       "    <tr style=\"text-align: right;\">\n",
       "      <th></th>\n",
       "      <th>model_name</th>\n",
       "      <th>f1_score</th>\n",
       "    </tr>\n",
       "  </thead>\n",
       "  <tbody>\n",
       "    <tr>\n",
       "      <th>4</th>\n",
       "      <td>RidgeC_model_1</td>\n",
       "      <td>0.999179</td>\n",
       "    </tr>\n",
       "    <tr>\n",
       "      <th>0</th>\n",
       "      <td>MultinomialNB_1</td>\n",
       "      <td>0.998975</td>\n",
       "    </tr>\n",
       "    <tr>\n",
       "      <th>2</th>\n",
       "      <td>LinearSVC_1</td>\n",
       "      <td>0.998975</td>\n",
       "    </tr>\n",
       "    <tr>\n",
       "      <th>1</th>\n",
       "      <td>LogisticRegression_1</td>\n",
       "      <td>0.997841</td>\n",
       "    </tr>\n",
       "    <tr>\n",
       "      <th>3</th>\n",
       "      <td>KNN_1</td>\n",
       "      <td>0.950525</td>\n",
       "    </tr>\n",
       "  </tbody>\n",
       "</table>\n",
       "</div>"
      ],
      "text/plain": [
       "             model_name  f1_score\n",
       "4        RidgeC_model_1  0.999179\n",
       "0       MultinomialNB_1  0.998975\n",
       "2           LinearSVC_1  0.998975\n",
       "1  LogisticRegression_1  0.997841\n",
       "3                 KNN_1  0.950525"
      ]
     },
     "execution_count": 37,
     "metadata": {},
     "output_type": "execute_result"
    }
   ],
   "source": [
    "# 10 000 features TDIF vector\n",
    "model_comp_df.sort_values('f1_score',ascending=False)\n",
    "\n"
   ]
  },
  {
   "cell_type": "code",
   "execution_count": null,
   "id": "493ff3b9",
   "metadata": {},
   "outputs": [],
   "source": []
  },
  {
   "cell_type": "code",
   "execution_count": null,
   "id": "451b951a",
   "metadata": {},
   "outputs": [],
   "source": []
  },
  {
   "cell_type": "code",
   "execution_count": null,
   "id": "90d2b965",
   "metadata": {},
   "outputs": [],
   "source": [
    "## Kaggle submition"
   ]
  },
  {
   "cell_type": "code",
   "execution_count": 42,
   "id": "f7d60304",
   "metadata": {},
   "outputs": [],
   "source": [
    "test_df = pd.read_csv('data/test_set.csv')\n",
    "\n",
    "test_features = test_df['text']\n",
    "\n",
    "cleaned_data = clean_data(test_features)\n",
    "\n",
    "    \n",
    "# Transform data to correct vectorizer\n",
    "#X_fin = count_vector_1.transform(cleaned_data).toarray()                         \n",
    "X_fin = count_vector_2.transform(cleaned_data).toarray()\n",
    "    \n",
    "\n",
    "# MNB_model_1\n",
    "# LR_model_1\n",
    "# linear_svc_model_1\n",
    "# knn_model_1\n",
    "# RidgeC_model_1\n",
    "\n",
    "y_pred_test = RidgeC_model_1.predict(X_fin)\n",
    "\n",
    "test_df['lang_id'] = y_pred_test\n",
    "output_df = test_df[['index', 'lang_id']]\n",
    "\n",
    "# .to_csv creates a new csv file in the local folder\n",
    "output_df.to_csv('Kaggel submission files/RidgeC_model_1.csv', index = False)"
   ]
  }
 ],
 "metadata": {
  "kernelspec": {
   "display_name": "Python 3",
   "language": "python",
   "name": "python3"
  },
  "language_info": {
   "codemirror_mode": {
    "name": "ipython",
    "version": 3
   },
   "file_extension": ".py",
   "mimetype": "text/x-python",
   "name": "python",
   "nbconvert_exporter": "python",
   "pygments_lexer": "ipython3",
   "version": "3.8.8"
  }
 },
 "nbformat": 4,
 "nbformat_minor": 5
}
