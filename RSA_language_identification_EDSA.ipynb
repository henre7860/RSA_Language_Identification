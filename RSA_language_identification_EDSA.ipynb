{
 "cells": [
  {
   "cell_type": "markdown",
   "id": "da9581d3",
   "metadata": {},
   "source": [
    "# South African Language Classificaion Project\n",
    "By: HJ van den Berg\n",
    "\n",
    "Due date: 03/12/2021\n"
   ]
  },
  {
   "cell_type": "markdown",
   "id": "8999ab11",
   "metadata": {},
   "source": [
    "## Table of Contents\n",
    "\n",
    "1. Introduction\n",
    "2. Import Python Modules\n",
    "3. Reading the Data\n",
    "4. Data Analysis\n",
    "5. Data Processing\n",
    "6. Training and Testing Sets\n",
    "7. Text to Numeric Convertion\n",
    "8. Model Building\n",
    "9. Model Evaluation\n",
    "10. Kaggle Submission\n",
    "11. Conclusion"
   ]
  },
  {
   "cell_type": "markdown",
   "id": "11c0979d",
   "metadata": {},
   "source": [
    "## 1. Introduction\n",
    "In this project, the problem we aim to solve is the classification of text data into eleven possible languages. South Africa is a multicultural society with eleven official languages, thus it is important to be able to classify each language to be able able to comunicate effectivaly with systems and devices.\n",
    "To accomplish this task we will:\n",
    "- Read and clean the raw text data.\n",
    "- Create a set features and targets.\n",
    "- Visualize the features and targets.\n",
    "- Build machine learning models to identify the languages.\n",
    "- Asses the models to determine the predictive power, and select the best model.\n",
    "\n"
   ]
  },
  {
   "cell_type": "markdown",
   "id": "569bcc8b",
   "metadata": {},
   "source": [
    "## 2. Import Python Modules\n",
    "\n",
    "In order to effectivaly manipulate the data we need the right tools for the job. Below we will import the neccesary modules that we will be using to interact with the data."
   ]
  },
  {
   "cell_type": "code",
   "execution_count": 108,
   "id": "f98c0ecf",
   "metadata": {},
   "outputs": [],
   "source": [
    "# Import packages\n",
    "\n",
    "# Database manipulation\n",
    "import pandas as pd\n",
    "import numpy as np\n",
    "\n",
    "# Visualization\n",
    "import matplotlib.pyplot as plt\n",
    "import seaborn as sns\n",
    "%matplotlib inline\n",
    "\n",
    "\n",
    "# Natural language Toolkit packages.\n",
    "# Necessary libraries and modules that are \n",
    "# going to help us do the data processing \n",
    "# from the nltk library.\n",
    "import nltk\n",
    "\n",
    "# Regular expression\n",
    "import re\n",
    "\n",
    "\n",
    "# To make bag of words\n",
    "from sklearn.feature_extraction.text import CountVectorizer,TfidfVectorizer\n",
    "\n",
    "\n",
    "# Packages to create models\n",
    "from sklearn.naive_bayes import MultinomialNB\n",
    "from sklearn.linear_model import LogisticRegression, RidgeClassifier\n",
    "from sklearn.svm import LinearSVC  \n",
    "from sklearn.neighbors import KNeighborsClassifier\n",
    "\n",
    "# Train test split, to train the model.\n",
    "from sklearn.model_selection import train_test_split\n",
    "\n",
    "# Metrics to determine the accuracy of the model\n",
    "from sklearn.metrics import f1_score\n",
    "\n",
    "# Display images\n",
    "from IPython.display import Image\n",
    "\n",
    "\n",
    "import warnings\n",
    "warnings.filterwarnings('ignore')"
   ]
  },
  {
   "cell_type": "markdown",
   "id": "b92a2d7e",
   "metadata": {},
   "source": [
    "## 3. Reading the Data\n",
    "The training data for this project is located in a file called 'train_set.csv' which can be download from Github at: https://github.com/henre7860/RSA_Language_Identification.git. "
   ]
  },
  {
   "cell_type": "code",
   "execution_count": 27,
   "id": "91370d0a",
   "metadata": {},
   "outputs": [],
   "source": [
    "# Import dataset\n",
    "\n",
    "df = pd.read_csv(\"data/train_set.csv\")\n",
    "pd.set_option('display.max_colwidth',None)"
   ]
  },
  {
   "cell_type": "markdown",
   "id": "63e5eb92",
   "metadata": {},
   "source": [
    "## 4. Data Analysis\n",
    "\n",
    "With Exploritory Data Analysis, we will look at the following:\n",
    "- Identify the target and features.\n",
    "- Look at the data information and the shape.\n",
    "- Check for null values.\n",
    "- Identify unique target values.\n",
    "- Create a visual distribution of the data."
   ]
  },
  {
   "cell_type": "code",
   "execution_count": 43,
   "id": "63fdf259",
   "metadata": {
    "scrolled": true
   },
   "outputs": [
    {
     "data": {
      "text/html": [
       "<div>\n",
       "<style scoped>\n",
       "    .dataframe tbody tr th:only-of-type {\n",
       "        vertical-align: middle;\n",
       "    }\n",
       "\n",
       "    .dataframe tbody tr th {\n",
       "        vertical-align: top;\n",
       "    }\n",
       "\n",
       "    .dataframe thead th {\n",
       "        text-align: right;\n",
       "    }\n",
       "</style>\n",
       "<table border=\"1\" class=\"dataframe\">\n",
       "  <thead>\n",
       "    <tr style=\"text-align: right;\">\n",
       "      <th></th>\n",
       "      <th>lang_id</th>\n",
       "      <th>text</th>\n",
       "    </tr>\n",
       "  </thead>\n",
       "  <tbody>\n",
       "    <tr>\n",
       "      <th>0</th>\n",
       "      <td>xho</td>\n",
       "      <td>umgaqo-siseko wenza amalungiselelo kumaziko axhasa ulawulo lwesininzi kunye nokuthath inxaxheba kwabafazi ezi ziquka phakathi kwezinye zazo ikomishoni yokulingana ngokwesini ikomishoni yamalungelo oluntu lomzantsi afrika</td>\n",
       "    </tr>\n",
       "    <tr>\n",
       "      <th>1</th>\n",
       "      <td>xho</td>\n",
       "      <td>i-dha iya kuba nobulumko bokubeka umsebenzi naphi na kwisebe ngokusekwe kwiimfuno zokusebenza zalo emva kokubonana nomsebenzi kunye okanye imanyano yakhe ukuba ulandulo lomntu onjalo alufanelekanga i-dha mayibize uncedo olufanelekileyo elungelweni layo</td>\n",
       "    </tr>\n",
       "    <tr>\n",
       "      <th>2</th>\n",
       "      <td>eng</td>\n",
       "      <td>the province of kwazulu-natal department of transport invites tenders from established contractors experienced in bridge construction for the construction of the kwajolwayo tugela river pedestrian bridge near tugela ferry the duration of the project will be months</td>\n",
       "    </tr>\n",
       "    <tr>\n",
       "      <th>3</th>\n",
       "      <td>nso</td>\n",
       "      <td>o netefatša gore o ba file dilo ka moka tše le dumelelanego ka tšona mohlala maleri a magolo a a šomišwago go fihlelela meagong e metelele scaffolds a a bolokegilego lefelo la maleba la go šomela go phela gabotse bjbj</td>\n",
       "    </tr>\n",
       "    <tr>\n",
       "      <th>4</th>\n",
       "      <td>ven</td>\n",
       "      <td>khomishini ya ndinganyiso ya mbeu yo ewa maana u ya nga mulayo wa khomishini ya ndinganyiso ya mbeu u thetshelesa mbilaelo dzine dza tshimbilelana na tshialula u ya nga mbeu nahone i ivhea sa foramu ya thungo u ya nga mulayo wa ndinganyiso</td>\n",
       "    </tr>\n",
       "  </tbody>\n",
       "</table>\n",
       "</div>"
      ],
      "text/plain": [
       "  lang_id  \\\n",
       "0     xho   \n",
       "1     xho   \n",
       "2     eng   \n",
       "3     nso   \n",
       "4     ven   \n",
       "\n",
       "                                                                                                                                                                                                                                                                       text  \n",
       "0                                              umgaqo-siseko wenza amalungiselelo kumaziko axhasa ulawulo lwesininzi kunye nokuthath inxaxheba kwabafazi ezi ziquka phakathi kwezinye zazo ikomishoni yokulingana ngokwesini ikomishoni yamalungelo oluntu lomzantsi afrika  \n",
       "1              i-dha iya kuba nobulumko bokubeka umsebenzi naphi na kwisebe ngokusekwe kwiimfuno zokusebenza zalo emva kokubonana nomsebenzi kunye okanye imanyano yakhe ukuba ulandulo lomntu onjalo alufanelekanga i-dha mayibize uncedo olufanelekileyo elungelweni layo  \n",
       "2  the province of kwazulu-natal department of transport invites tenders from established contractors experienced in bridge construction for the construction of the kwajolwayo tugela river pedestrian bridge near tugela ferry the duration of the project will be months  \n",
       "3                                                 o netefatša gore o ba file dilo ka moka tše le dumelelanego ka tšona mohlala maleri a magolo a a šomišwago go fihlelela meagong e metelele scaffolds a a bolokegilego lefelo la maleba la go šomela go phela gabotse bjbj  \n",
       "4                           khomishini ya ndinganyiso ya mbeu yo ewa maana u ya nga mulayo wa khomishini ya ndinganyiso ya mbeu u thetshelesa mbilaelo dzine dza tshimbilelana na tshialula u ya nga mbeu nahone i ivhea sa foramu ya thungo u ya nga mulayo wa ndinganyiso  "
      ]
     },
     "execution_count": 43,
     "metadata": {},
     "output_type": "execute_result"
    }
   ],
   "source": [
    "df.head()"
   ]
  },
  {
   "cell_type": "markdown",
   "id": "7a538b0d",
   "metadata": {},
   "source": [
    "Thus 'lang_id' is the target and 'text' is the features in the data set."
   ]
  },
  {
   "cell_type": "code",
   "execution_count": 28,
   "id": "04800c3f",
   "metadata": {},
   "outputs": [
    {
     "name": "stdout",
     "output_type": "stream",
     "text": [
      "<class 'pandas.core.frame.DataFrame'>\n",
      "RangeIndex: 33000 entries, 0 to 32999\n",
      "Data columns (total 2 columns):\n",
      " #   Column   Non-Null Count  Dtype \n",
      "---  ------   --------------  ----- \n",
      " 0   lang_id  33000 non-null  object\n",
      " 1   text     33000 non-null  object\n",
      "dtypes: object(2)\n",
      "memory usage: 515.8+ KB\n"
     ]
    }
   ],
   "source": [
    "df.info()"
   ]
  },
  {
   "cell_type": "markdown",
   "id": "b6108185",
   "metadata": {},
   "source": [
    "Below is the shape of the data, wee can see there are 33 000 rows and 2 columns."
   ]
  },
  {
   "cell_type": "code",
   "execution_count": 31,
   "id": "f9bb9825",
   "metadata": {
    "scrolled": true
   },
   "outputs": [
    {
     "data": {
      "text/plain": [
       "(33000, 2)"
      ]
     },
     "execution_count": 31,
     "metadata": {},
     "output_type": "execute_result"
    }
   ],
   "source": [
    "df.shape"
   ]
  },
  {
   "cell_type": "markdown",
   "id": "7b8176f2",
   "metadata": {},
   "source": [
    "Here we check for null values, and as we can see there are no null values in the data set."
   ]
  },
  {
   "cell_type": "code",
   "execution_count": 33,
   "id": "526bcbd8",
   "metadata": {},
   "outputs": [
    {
     "data": {
      "text/plain": [
       "lang_id    0\n",
       "text       0\n",
       "dtype: int64"
      ]
     },
     "execution_count": 33,
     "metadata": {},
     "output_type": "execute_result"
    }
   ],
   "source": [
    "df.isnull().sum()"
   ]
  },
  {
   "cell_type": "markdown",
   "id": "9f4faff0",
   "metadata": {},
   "source": [
    "Here we identify the unique values in the target variable and check the total values of the uniques targets."
   ]
  },
  {
   "cell_type": "code",
   "execution_count": 35,
   "id": "c1c3e78a",
   "metadata": {},
   "outputs": [
    {
     "data": {
      "text/plain": [
       "array(['xho', 'eng', 'nso', 'ven', 'tsn', 'nbl', 'zul', 'ssw', 'tso',\n",
       "       'sot', 'afr'], dtype=object)"
      ]
     },
     "execution_count": 35,
     "metadata": {},
     "output_type": "execute_result"
    }
   ],
   "source": [
    "df['lang_id'].unique()"
   ]
  },
  {
   "cell_type": "code",
   "execution_count": 36,
   "id": "f15b472e",
   "metadata": {},
   "outputs": [
    {
     "data": {
      "text/plain": [
       "ssw    3000\n",
       "tsn    3000\n",
       "xho    3000\n",
       "nso    3000\n",
       "tso    3000\n",
       "afr    3000\n",
       "sot    3000\n",
       "ven    3000\n",
       "nbl    3000\n",
       "eng    3000\n",
       "zul    3000\n",
       "Name: lang_id, dtype: int64"
      ]
     },
     "execution_count": 36,
     "metadata": {},
     "output_type": "execute_result"
    }
   ],
   "source": [
    "df['lang_id'].value_counts()"
   ]
  },
  {
   "cell_type": "markdown",
   "id": "aee0c3b4",
   "metadata": {},
   "source": [
    "Below we can see the distribution of the target variable in the form of a pie chart, and as we can see the data is evenly distributed."
   ]
  },
  {
   "cell_type": "code",
   "execution_count": 39,
   "id": "5ce86c11",
   "metadata": {},
   "outputs": [
    {
     "data": {
      "text/plain": [
       "<AxesSubplot:ylabel='lang_id'>"
      ]
     },
     "execution_count": 39,
     "metadata": {},
     "output_type": "execute_result"
    },
    {
     "data": {
      "image/png": "[encoded data removed]",
      "text/plain": [
       "<Figure size 432x288 with 1 Axes>"
      ]
     },
     "metadata": {},
     "output_type": "display_data"
    }
   ],
   "source": [
    "df['lang_id'].value_counts().plot(kind='pie', autopct='%1.0f%%')\n"
   ]
  },
  {
   "cell_type": "markdown",
   "id": "b2b216a8",
   "metadata": {},
   "source": [
    "## 5. Data Processing\n",
    "\n",
    "In data precessing we will start with cleaning the data to ensure the data is consistent for the traing stage."
   ]
  },
  {
   "cell_type": "markdown",
   "id": "e147c807",
   "metadata": {},
   "source": [
    "First we will separate the target and features variable."
   ]
  },
  {
   "cell_type": "code",
   "execution_count": 85,
   "id": "ee75f6c8",
   "metadata": {},
   "outputs": [],
   "source": [
    "X = df['text']\n",
    "y = df['lang_id']"
   ]
  },
  {
   "cell_type": "markdown",
   "id": "afb3cbfd",
   "metadata": {},
   "source": [
    "Next is the text cleaning process."
   ]
  },
  {
   "cell_type": "code",
   "execution_count": 87,
   "id": "55b793eb",
   "metadata": {},
   "outputs": [],
   "source": [
    "# Create an empty list for the cleaned data\n",
    "clean_list = []\n",
    "\n",
    "#Loop through each through each row.\n",
    "for i in range(len(X)):\n",
    "    # Transform all the data to lowercase\n",
    "    tweet=X.iloc[i].lower()\n",
    "    \n",
    "    # Remove digits and puntuation from the data.\n",
    "    tweet = re.sub(r'[-]',' ',tweet)\n",
    "    tweet = re.sub(r'[_]', ' ', tweet)\n",
    "    tweet = re.sub(r'[^\\w\\s]','',tweet)\n",
    "    tweet = re.sub('[0-9]+', '', tweet)\n",
    "            \n",
    "    # Remove whitespaces for, the data\n",
    "    tweet = re.sub(\"\\\\s+\", \" \", tweet)\n",
    "    tweet = tweet.lstrip() \n",
    "    tweet = tweet.rstrip()\n",
    "   \n",
    "    clean_list.append(tweet)  # Creates a list of the cleaned tweets.\n",
    "    \n"
   ]
  },
  {
   "cell_type": "markdown",
   "id": "fde9afd4",
   "metadata": {},
   "source": [
    "Create an new column in the dataset with the cleaned text and call it 'text_clean' and have look at it."
   ]
  },
  {
   "cell_type": "code",
   "execution_count": 90,
   "id": "5a3a8bc1",
   "metadata": {},
   "outputs": [],
   "source": [
    "df['text_clean'] = clean_list"
   ]
  },
  {
   "cell_type": "code",
   "execution_count": 91,
   "id": "c2fa233d",
   "metadata": {},
   "outputs": [
    {
     "data": {
      "text/html": [
       "<div>\n",
       "<style scoped>\n",
       "    .dataframe tbody tr th:only-of-type {\n",
       "        vertical-align: middle;\n",
       "    }\n",
       "\n",
       "    .dataframe tbody tr th {\n",
       "        vertical-align: top;\n",
       "    }\n",
       "\n",
       "    .dataframe thead th {\n",
       "        text-align: right;\n",
       "    }\n",
       "</style>\n",
       "<table border=\"1\" class=\"dataframe\">\n",
       "  <thead>\n",
       "    <tr style=\"text-align: right;\">\n",
       "      <th></th>\n",
       "      <th>lang_id</th>\n",
       "      <th>text</th>\n",
       "      <th>text_clean</th>\n",
       "    </tr>\n",
       "  </thead>\n",
       "  <tbody>\n",
       "    <tr>\n",
       "      <th>0</th>\n",
       "      <td>xho</td>\n",
       "      <td>umgaqo-siseko wenza amalungiselelo kumaziko axhasa ulawulo lwesininzi kunye nokuthath inxaxheba kwabafazi ezi ziquka phakathi kwezinye zazo ikomishoni yokulingana ngokwesini ikomishoni yamalungelo oluntu lomzantsi afrika</td>\n",
       "      <td>umgaqo siseko wenza amalungiselelo kumaziko axhasa ulawulo lwesininzi kunye nokuthath inxaxheba kwabafazi ezi ziquka phakathi kwezinye zazo ikomishoni yokulingana ngokwesini ikomishoni yamalungelo oluntu lomzantsi afrika</td>\n",
       "    </tr>\n",
       "    <tr>\n",
       "      <th>1</th>\n",
       "      <td>xho</td>\n",
       "      <td>i-dha iya kuba nobulumko bokubeka umsebenzi naphi na kwisebe ngokusekwe kwiimfuno zokusebenza zalo emva kokubonana nomsebenzi kunye okanye imanyano yakhe ukuba ulandulo lomntu onjalo alufanelekanga i-dha mayibize uncedo olufanelekileyo elungelweni layo</td>\n",
       "      <td>i dha iya kuba nobulumko bokubeka umsebenzi naphi na kwisebe ngokusekwe kwiimfuno zokusebenza zalo emva kokubonana nomsebenzi kunye okanye imanyano yakhe ukuba ulandulo lomntu onjalo alufanelekanga i dha mayibize uncedo olufanelekileyo elungelweni layo</td>\n",
       "    </tr>\n",
       "    <tr>\n",
       "      <th>2</th>\n",
       "      <td>eng</td>\n",
       "      <td>the province of kwazulu-natal department of transport invites tenders from established contractors experienced in bridge construction for the construction of the kwajolwayo tugela river pedestrian bridge near tugela ferry the duration of the project will be months</td>\n",
       "      <td>the province of kwazulu natal department of transport invites tenders from established contractors experienced in bridge construction for the construction of the kwajolwayo tugela river pedestrian bridge near tugela ferry the duration of the project will be months</td>\n",
       "    </tr>\n",
       "    <tr>\n",
       "      <th>3</th>\n",
       "      <td>nso</td>\n",
       "      <td>o netefatša gore o ba file dilo ka moka tše le dumelelanego ka tšona mohlala maleri a magolo a a šomišwago go fihlelela meagong e metelele scaffolds a a bolokegilego lefelo la maleba la go šomela go phela gabotse bjbj</td>\n",
       "      <td>o netefatša gore o ba file dilo ka moka tše le dumelelanego ka tšona mohlala maleri a magolo a a šomišwago go fihlelela meagong e metelele scaffolds a a bolokegilego lefelo la maleba la go šomela go phela gabotse bjbj</td>\n",
       "    </tr>\n",
       "    <tr>\n",
       "      <th>4</th>\n",
       "      <td>ven</td>\n",
       "      <td>khomishini ya ndinganyiso ya mbeu yo ewa maana u ya nga mulayo wa khomishini ya ndinganyiso ya mbeu u thetshelesa mbilaelo dzine dza tshimbilelana na tshialula u ya nga mbeu nahone i ivhea sa foramu ya thungo u ya nga mulayo wa ndinganyiso</td>\n",
       "      <td>khomishini ya ndinganyiso ya mbeu yo ewa maana u ya nga mulayo wa khomishini ya ndinganyiso ya mbeu u thetshelesa mbilaelo dzine dza tshimbilelana na tshialula u ya nga mbeu nahone i ivhea sa foramu ya thungo u ya nga mulayo wa ndinganyiso</td>\n",
       "    </tr>\n",
       "  </tbody>\n",
       "</table>\n",
       "</div>"
      ],
      "text/plain": [
       "  lang_id  \\\n",
       "0     xho   \n",
       "1     xho   \n",
       "2     eng   \n",
       "3     nso   \n",
       "4     ven   \n",
       "\n",
       "                                                                                                                                                                                                                                                                       text  \\\n",
       "0                                              umgaqo-siseko wenza amalungiselelo kumaziko axhasa ulawulo lwesininzi kunye nokuthath inxaxheba kwabafazi ezi ziquka phakathi kwezinye zazo ikomishoni yokulingana ngokwesini ikomishoni yamalungelo oluntu lomzantsi afrika   \n",
       "1              i-dha iya kuba nobulumko bokubeka umsebenzi naphi na kwisebe ngokusekwe kwiimfuno zokusebenza zalo emva kokubonana nomsebenzi kunye okanye imanyano yakhe ukuba ulandulo lomntu onjalo alufanelekanga i-dha mayibize uncedo olufanelekileyo elungelweni layo   \n",
       "2  the province of kwazulu-natal department of transport invites tenders from established contractors experienced in bridge construction for the construction of the kwajolwayo tugela river pedestrian bridge near tugela ferry the duration of the project will be months   \n",
       "3                                                 o netefatša gore o ba file dilo ka moka tše le dumelelanego ka tšona mohlala maleri a magolo a a šomišwago go fihlelela meagong e metelele scaffolds a a bolokegilego lefelo la maleba la go šomela go phela gabotse bjbj   \n",
       "4                           khomishini ya ndinganyiso ya mbeu yo ewa maana u ya nga mulayo wa khomishini ya ndinganyiso ya mbeu u thetshelesa mbilaelo dzine dza tshimbilelana na tshialula u ya nga mbeu nahone i ivhea sa foramu ya thungo u ya nga mulayo wa ndinganyiso   \n",
       "\n",
       "                                                                                                                                                                                                                                                                 text_clean  \n",
       "0                                              umgaqo siseko wenza amalungiselelo kumaziko axhasa ulawulo lwesininzi kunye nokuthath inxaxheba kwabafazi ezi ziquka phakathi kwezinye zazo ikomishoni yokulingana ngokwesini ikomishoni yamalungelo oluntu lomzantsi afrika  \n",
       "1              i dha iya kuba nobulumko bokubeka umsebenzi naphi na kwisebe ngokusekwe kwiimfuno zokusebenza zalo emva kokubonana nomsebenzi kunye okanye imanyano yakhe ukuba ulandulo lomntu onjalo alufanelekanga i dha mayibize uncedo olufanelekileyo elungelweni layo  \n",
       "2  the province of kwazulu natal department of transport invites tenders from established contractors experienced in bridge construction for the construction of the kwajolwayo tugela river pedestrian bridge near tugela ferry the duration of the project will be months  \n",
       "3                                                 o netefatša gore o ba file dilo ka moka tše le dumelelanego ka tšona mohlala maleri a magolo a a šomišwago go fihlelela meagong e metelele scaffolds a a bolokegilego lefelo la maleba la go šomela go phela gabotse bjbj  \n",
       "4                           khomishini ya ndinganyiso ya mbeu yo ewa maana u ya nga mulayo wa khomishini ya ndinganyiso ya mbeu u thetshelesa mbilaelo dzine dza tshimbilelana na tshialula u ya nga mbeu nahone i ivhea sa foramu ya thungo u ya nga mulayo wa ndinganyiso  "
      ]
     },
     "execution_count": 91,
     "metadata": {},
     "output_type": "execute_result"
    }
   ],
   "source": [
    "df.head()"
   ]
  },
  {
   "cell_type": "markdown",
   "id": "759f9c1e",
   "metadata": {},
   "source": [
    "## 6. Training and Testing Sets\n",
    "\n",
    "Before we can build predictive models we must split our data into training and testing sets. The training set will be used to train a model and the testing set will be used to test how accurate the model is in classifying unseen data."
   ]
  },
  {
   "cell_type": "code",
   "execution_count": 94,
   "id": "fff00f7c",
   "metadata": {},
   "outputs": [],
   "source": [
    "# Split data\n",
    "\n",
    "# Declare the target and features\n",
    "X = clean_list      # Features\n",
    "y = df['lang_id']   # Targets\n",
    "\n",
    "# Data is split into training and testing sets, from test_size =0.3, 70% of the data is use for traing.\n",
    "X_train, X_test, y_train, y_test = train_test_split(X, y, test_size=0.3 , random_state = 42)\n"
   ]
  },
  {
   "cell_type": "markdown",
   "id": "46227693",
   "metadata": {},
   "source": [
    "## 7. Text to Numeric Convertion\n",
    "\n",
    "We will be using the TfidfVectorizer method to convert the text data into numeric data. The TD-IDF vectorizer reflects the importance of a word in the text as a numerical statistic. We will use max_features=10 000 so that our model is not to resource intensive.\n",
    "\n"
   ]
  },
  {
   "cell_type": "code",
   "execution_count": 95,
   "id": "db243d6b",
   "metadata": {},
   "outputs": [],
   "source": [
    "# Declare TfidfVectorizer\n",
    "count_vector_2 = TfidfVectorizer(max_df=0.9, ngram_range=(1, 5), analyzer= 'char',max_features=10000)\n",
    "\n",
    "# Fit and transform the data\n",
    "X_train = count_vector_2.fit_transform(X_train).toarray() # Only fit training data\n",
    "X_test = count_vector_2.transform(X_test).toarray()"
   ]
  },
  {
   "cell_type": "markdown",
   "id": "2247ab2e",
   "metadata": {},
   "source": [
    "## 8. Model Building\n",
    " Here we will create five different models to train and test the data on.\n",
    " "
   ]
  },
  {
   "cell_type": "markdown",
   "id": "ec44dff0",
   "metadata": {},
   "source": [
    "#### Model 1: MultinomialNB"
   ]
  },
  {
   "cell_type": "code",
   "execution_count": 96,
   "id": "12c01e1c",
   "metadata": {
    "scrolled": true
   },
   "outputs": [
    {
     "name": "stdout",
     "output_type": "stream",
     "text": [
      "macro f1 score: 0.9989748558212916\n"
     ]
    }
   ],
   "source": [
    "# Initialize model\n",
    "\n",
    "MNB_model_1 = MultinomialNB(alpha=0.1)\n",
    "\n",
    "\n",
    "# Fit the model\n",
    "MNB_model_1.fit(X_train, y_train)\n",
    "\n",
    "# Predict on the test set\n",
    "y_pred_1 = MNB_model_1.predict(X_test)\n",
    "\n",
    "\n",
    "# Determince accuracy\n",
    "f1score_1 = f1_score(y_test, y_pred_1, average= 'macro')\n",
    "print('macro f1 score:', f1score_1)\n"
   ]
  },
  {
   "cell_type": "markdown",
   "id": "6011726c",
   "metadata": {},
   "source": [
    "#### Mode 2: LogisticRegression"
   ]
  },
  {
   "cell_type": "code",
   "execution_count": 97,
   "id": "3a711899",
   "metadata": {},
   "outputs": [
    {
     "name": "stdout",
     "output_type": "stream",
     "text": [
      "macro f1 score: 0.9978407391670158\n"
     ]
    }
   ],
   "source": [
    "# Initialize model\n",
    "LR_model_1 = LogisticRegression()\n",
    "# Fit the model\n",
    "LR_model_1.fit(X_train, y_train)\n",
    "\n",
    "# Predict on the test set\n",
    "y_pred_2 = LR_model_1.predict(X_test)\n",
    "\n",
    "# Determince accuracy\n",
    "f1score_2 = f1_score(y_test, y_pred_2, average= 'macro')\n",
    "print('macro f1 score:', f1score_2)\n"
   ]
  },
  {
   "cell_type": "markdown",
   "id": "ec3069d1",
   "metadata": {},
   "source": [
    "#### Model 3: LinearSVC"
   ]
  },
  {
   "cell_type": "code",
   "execution_count": 98,
   "id": "b3c6a391",
   "metadata": {},
   "outputs": [
    {
     "name": "stdout",
     "output_type": "stream",
     "text": [
      "macro f1 score: 0.9989745815008203\n"
     ]
    }
   ],
   "source": [
    "# Initialize model\n",
    "linear_svc_model_1 = LinearSVC(C=0.9, random_state=1)\n",
    "\n",
    "# Fit the model\n",
    "linear_svc_model_1.fit(X_train, y_train)\n",
    "\n",
    "# Predict on the test set\n",
    "y_pred_3 = linear_svc_model_1.predict(X_test)\n",
    "\n",
    "# Determince accuracy\n",
    "f1score_3 = f1_score(y_test, y_pred_3, average= 'macro')\n",
    "print('macro f1 score:', f1score_3)\n",
    "# Standard = macro f1 score: 0.9870048"
   ]
  },
  {
   "cell_type": "markdown",
   "id": "161facb7",
   "metadata": {},
   "source": [
    "#### Model 4: KNeighborsClassifier"
   ]
  },
  {
   "cell_type": "code",
   "execution_count": 99,
   "id": "b3a0f6b6",
   "metadata": {},
   "outputs": [
    {
     "name": "stdout",
     "output_type": "stream",
     "text": [
      "macro f1 score: 0.9505252921727995\n"
     ]
    }
   ],
   "source": [
    "# Initialize model\n",
    "knn_model_1 = KNeighborsClassifier(n_neighbors=1,weights='uniform',metric='euclidean')\n",
    "# Fit the model\n",
    "knn_model_1.fit(X_train, y_train)\n",
    "\n",
    "# Predict on the test set\n",
    "y_pred_4 = knn_model_1.predict(X_test)\n",
    "\n",
    "# Determince accuracy\n",
    "f1score_4 = f1_score(y_test, y_pred_4, average= 'macro')\n",
    "print('macro f1 score:', f1score_4)\n"
   ]
  },
  {
   "cell_type": "markdown",
   "id": "d016aaa3",
   "metadata": {},
   "source": [
    "#### Model 5: RidgeClassifier"
   ]
  },
  {
   "cell_type": "code",
   "execution_count": 112,
   "id": "b51c29de",
   "metadata": {
    "collapsed": true
   },
   "outputs": [
    {
     "ename": "KeyboardInterrupt",
     "evalue": "",
     "output_type": "error",
     "traceback": [
      "\u001b[1;31m---------------------------------------------------------------------------\u001b[0m",
      "\u001b[1;31mKeyboardInterrupt\u001b[0m                         Traceback (most recent call last)",
      "\u001b[1;32m<ipython-input-112-b69e590f32af>\u001b[0m in \u001b[0;36m<module>\u001b[1;34m\u001b[0m\n\u001b[0;32m      3\u001b[0m \u001b[1;33m\u001b[0m\u001b[0m\n\u001b[0;32m      4\u001b[0m \u001b[1;31m# Fit the model\u001b[0m\u001b[1;33m\u001b[0m\u001b[1;33m\u001b[0m\u001b[1;33m\u001b[0m\u001b[0m\n\u001b[1;32m----> 5\u001b[1;33m \u001b[0mRidgeC_model_1\u001b[0m\u001b[1;33m.\u001b[0m\u001b[0mfit\u001b[0m\u001b[1;33m(\u001b[0m\u001b[0mX_train\u001b[0m\u001b[1;33m,\u001b[0m \u001b[0my_train\u001b[0m\u001b[1;33m)\u001b[0m\u001b[1;33m\u001b[0m\u001b[1;33m\u001b[0m\u001b[0m\n\u001b[0m\u001b[0;32m      6\u001b[0m \u001b[1;33m\u001b[0m\u001b[0m\n\u001b[0;32m      7\u001b[0m \u001b[1;31m# Determince accuracy\u001b[0m\u001b[1;33m\u001b[0m\u001b[1;33m\u001b[0m\u001b[1;33m\u001b[0m\u001b[0m\n",
      "\u001b[1;32m~\\anaconda3\\lib\\site-packages\\sklearn\\linear_model\\_ridge.py\u001b[0m in \u001b[0;36mfit\u001b[1;34m(self, X, y, sample_weight)\u001b[0m\n\u001b[0;32m    943\u001b[0m                              compute_sample_weight(self.class_weight, y))\n\u001b[0;32m    944\u001b[0m \u001b[1;33m\u001b[0m\u001b[0m\n\u001b[1;32m--> 945\u001b[1;33m         \u001b[0msuper\u001b[0m\u001b[1;33m(\u001b[0m\u001b[1;33m)\u001b[0m\u001b[1;33m.\u001b[0m\u001b[0mfit\u001b[0m\u001b[1;33m(\u001b[0m\u001b[0mX\u001b[0m\u001b[1;33m,\u001b[0m \u001b[0mY\u001b[0m\u001b[1;33m,\u001b[0m \u001b[0msample_weight\u001b[0m\u001b[1;33m=\u001b[0m\u001b[0msample_weight\u001b[0m\u001b[1;33m)\u001b[0m\u001b[1;33m\u001b[0m\u001b[1;33m\u001b[0m\u001b[0m\n\u001b[0m\u001b[0;32m    946\u001b[0m         \u001b[1;32mreturn\u001b[0m \u001b[0mself\u001b[0m\u001b[1;33m\u001b[0m\u001b[1;33m\u001b[0m\u001b[0m\n\u001b[0;32m    947\u001b[0m \u001b[1;33m\u001b[0m\u001b[0m\n",
      "\u001b[1;32m~\\anaconda3\\lib\\site-packages\\sklearn\\linear_model\\_ridge.py\u001b[0m in \u001b[0;36mfit\u001b[1;34m(self, X, y, sample_weight)\u001b[0m\n\u001b[0;32m    591\u001b[0m                 \u001b[0mparams\u001b[0m \u001b[1;33m=\u001b[0m \u001b[1;33m{\u001b[0m\u001b[1;33m}\u001b[0m\u001b[1;33m\u001b[0m\u001b[1;33m\u001b[0m\u001b[0m\n\u001b[0;32m    592\u001b[0m \u001b[1;33m\u001b[0m\u001b[0m\n\u001b[1;32m--> 593\u001b[1;33m             self.coef_, self.n_iter_ = _ridge_regression(\n\u001b[0m\u001b[0;32m    594\u001b[0m                 \u001b[0mX\u001b[0m\u001b[1;33m,\u001b[0m \u001b[0my\u001b[0m\u001b[1;33m,\u001b[0m \u001b[0malpha\u001b[0m\u001b[1;33m=\u001b[0m\u001b[0mself\u001b[0m\u001b[1;33m.\u001b[0m\u001b[0malpha\u001b[0m\u001b[1;33m,\u001b[0m \u001b[0msample_weight\u001b[0m\u001b[1;33m=\u001b[0m\u001b[0msample_weight\u001b[0m\u001b[1;33m,\u001b[0m\u001b[1;33m\u001b[0m\u001b[1;33m\u001b[0m\u001b[0m\n\u001b[0;32m    595\u001b[0m                 \u001b[0mmax_iter\u001b[0m\u001b[1;33m=\u001b[0m\u001b[0mself\u001b[0m\u001b[1;33m.\u001b[0m\u001b[0mmax_iter\u001b[0m\u001b[1;33m,\u001b[0m \u001b[0mtol\u001b[0m\u001b[1;33m=\u001b[0m\u001b[0mself\u001b[0m\u001b[1;33m.\u001b[0m\u001b[0mtol\u001b[0m\u001b[1;33m,\u001b[0m \u001b[0msolver\u001b[0m\u001b[1;33m=\u001b[0m\u001b[0msolver\u001b[0m\u001b[1;33m,\u001b[0m\u001b[1;33m\u001b[0m\u001b[1;33m\u001b[0m\u001b[0m\n",
      "\u001b[1;32m~\\anaconda3\\lib\\site-packages\\sklearn\\linear_model\\_ridge.py\u001b[0m in \u001b[0;36m_ridge_regression\u001b[1;34m(X, y, alpha, sample_weight, solver, max_iter, tol, verbose, random_state, return_n_iter, return_intercept, X_scale, X_offset, check_input)\u001b[0m\n\u001b[0;32m    469\u001b[0m         \u001b[1;32melse\u001b[0m\u001b[1;33m:\u001b[0m\u001b[1;33m\u001b[0m\u001b[1;33m\u001b[0m\u001b[0m\n\u001b[0;32m    470\u001b[0m             \u001b[1;32mtry\u001b[0m\u001b[1;33m:\u001b[0m\u001b[1;33m\u001b[0m\u001b[1;33m\u001b[0m\u001b[0m\n\u001b[1;32m--> 471\u001b[1;33m                 \u001b[0mcoef\u001b[0m \u001b[1;33m=\u001b[0m \u001b[0m_solve_cholesky\u001b[0m\u001b[1;33m(\u001b[0m\u001b[0mX\u001b[0m\u001b[1;33m,\u001b[0m \u001b[0my\u001b[0m\u001b[1;33m,\u001b[0m \u001b[0malpha\u001b[0m\u001b[1;33m)\u001b[0m\u001b[1;33m\u001b[0m\u001b[1;33m\u001b[0m\u001b[0m\n\u001b[0m\u001b[0;32m    472\u001b[0m             \u001b[1;32mexcept\u001b[0m \u001b[0mlinalg\u001b[0m\u001b[1;33m.\u001b[0m\u001b[0mLinAlgError\u001b[0m\u001b[1;33m:\u001b[0m\u001b[1;33m\u001b[0m\u001b[1;33m\u001b[0m\u001b[0m\n\u001b[0;32m    473\u001b[0m                 \u001b[1;31m# use SVD solver if matrix is singular\u001b[0m\u001b[1;33m\u001b[0m\u001b[1;33m\u001b[0m\u001b[1;33m\u001b[0m\u001b[0m\n",
      "\u001b[1;32m~\\anaconda3\\lib\\site-packages\\sklearn\\linear_model\\_ridge.py\u001b[0m in \u001b[0;36m_solve_cholesky\u001b[1;34m(X, y, alpha)\u001b[0m\n\u001b[0;32m    138\u001b[0m     \u001b[0mn_targets\u001b[0m \u001b[1;33m=\u001b[0m \u001b[0my\u001b[0m\u001b[1;33m.\u001b[0m\u001b[0mshape\u001b[0m\u001b[1;33m[\u001b[0m\u001b[1;36m1\u001b[0m\u001b[1;33m]\u001b[0m\u001b[1;33m\u001b[0m\u001b[1;33m\u001b[0m\u001b[0m\n\u001b[0;32m    139\u001b[0m \u001b[1;33m\u001b[0m\u001b[0m\n\u001b[1;32m--> 140\u001b[1;33m     \u001b[0mA\u001b[0m \u001b[1;33m=\u001b[0m \u001b[0msafe_sparse_dot\u001b[0m\u001b[1;33m(\u001b[0m\u001b[0mX\u001b[0m\u001b[1;33m.\u001b[0m\u001b[0mT\u001b[0m\u001b[1;33m,\u001b[0m \u001b[0mX\u001b[0m\u001b[1;33m,\u001b[0m \u001b[0mdense_output\u001b[0m\u001b[1;33m=\u001b[0m\u001b[1;32mTrue\u001b[0m\u001b[1;33m)\u001b[0m\u001b[1;33m\u001b[0m\u001b[1;33m\u001b[0m\u001b[0m\n\u001b[0m\u001b[0;32m    141\u001b[0m     \u001b[0mXy\u001b[0m \u001b[1;33m=\u001b[0m \u001b[0msafe_sparse_dot\u001b[0m\u001b[1;33m(\u001b[0m\u001b[0mX\u001b[0m\u001b[1;33m.\u001b[0m\u001b[0mT\u001b[0m\u001b[1;33m,\u001b[0m \u001b[0my\u001b[0m\u001b[1;33m,\u001b[0m \u001b[0mdense_output\u001b[0m\u001b[1;33m=\u001b[0m\u001b[1;32mTrue\u001b[0m\u001b[1;33m)\u001b[0m\u001b[1;33m\u001b[0m\u001b[1;33m\u001b[0m\u001b[0m\n\u001b[0;32m    142\u001b[0m \u001b[1;33m\u001b[0m\u001b[0m\n",
      "\u001b[1;32m~\\anaconda3\\lib\\site-packages\\sklearn\\utils\\validation.py\u001b[0m in \u001b[0;36minner_f\u001b[1;34m(*args, **kwargs)\u001b[0m\n\u001b[0;32m     61\u001b[0m             \u001b[0mextra_args\u001b[0m \u001b[1;33m=\u001b[0m \u001b[0mlen\u001b[0m\u001b[1;33m(\u001b[0m\u001b[0margs\u001b[0m\u001b[1;33m)\u001b[0m \u001b[1;33m-\u001b[0m \u001b[0mlen\u001b[0m\u001b[1;33m(\u001b[0m\u001b[0mall_args\u001b[0m\u001b[1;33m)\u001b[0m\u001b[1;33m\u001b[0m\u001b[1;33m\u001b[0m\u001b[0m\n\u001b[0;32m     62\u001b[0m             \u001b[1;32mif\u001b[0m \u001b[0mextra_args\u001b[0m \u001b[1;33m<=\u001b[0m \u001b[1;36m0\u001b[0m\u001b[1;33m:\u001b[0m\u001b[1;33m\u001b[0m\u001b[1;33m\u001b[0m\u001b[0m\n\u001b[1;32m---> 63\u001b[1;33m                 \u001b[1;32mreturn\u001b[0m \u001b[0mf\u001b[0m\u001b[1;33m(\u001b[0m\u001b[1;33m*\u001b[0m\u001b[0margs\u001b[0m\u001b[1;33m,\u001b[0m \u001b[1;33m**\u001b[0m\u001b[0mkwargs\u001b[0m\u001b[1;33m)\u001b[0m\u001b[1;33m\u001b[0m\u001b[1;33m\u001b[0m\u001b[0m\n\u001b[0m\u001b[0;32m     64\u001b[0m \u001b[1;33m\u001b[0m\u001b[0m\n\u001b[0;32m     65\u001b[0m             \u001b[1;31m# extra_args > 0\u001b[0m\u001b[1;33m\u001b[0m\u001b[1;33m\u001b[0m\u001b[1;33m\u001b[0m\u001b[0m\n",
      "\u001b[1;32m~\\anaconda3\\lib\\site-packages\\sklearn\\utils\\extmath.py\u001b[0m in \u001b[0;36msafe_sparse_dot\u001b[1;34m(a, b, dense_output)\u001b[0m\n\u001b[0;32m    150\u001b[0m             \u001b[0mret\u001b[0m \u001b[1;33m=\u001b[0m \u001b[0mnp\u001b[0m\u001b[1;33m.\u001b[0m\u001b[0mdot\u001b[0m\u001b[1;33m(\u001b[0m\u001b[0ma\u001b[0m\u001b[1;33m,\u001b[0m \u001b[0mb\u001b[0m\u001b[1;33m)\u001b[0m\u001b[1;33m\u001b[0m\u001b[1;33m\u001b[0m\u001b[0m\n\u001b[0;32m    151\u001b[0m     \u001b[1;32melse\u001b[0m\u001b[1;33m:\u001b[0m\u001b[1;33m\u001b[0m\u001b[1;33m\u001b[0m\u001b[0m\n\u001b[1;32m--> 152\u001b[1;33m         \u001b[0mret\u001b[0m \u001b[1;33m=\u001b[0m \u001b[0ma\u001b[0m \u001b[1;33m@\u001b[0m \u001b[0mb\u001b[0m\u001b[1;33m\u001b[0m\u001b[1;33m\u001b[0m\u001b[0m\n\u001b[0m\u001b[0;32m    153\u001b[0m \u001b[1;33m\u001b[0m\u001b[0m\n\u001b[0;32m    154\u001b[0m     if (sparse.issparse(a) and sparse.issparse(b)\n",
      "\u001b[1;31mKeyboardInterrupt\u001b[0m: "
     ]
    }
   ],
   "source": [
    "# Initialize model\n",
    "RidgeC_model_1 = RidgeClassifier(alpha=0.2125)\n",
    "\n",
    "# Fit the model\n",
    "RidgeC_model_1.fit(X_train, y_train)\n",
    "\n",
    "# Determince accuracy\n",
    "y_pred_5 = RidgeC_model_1.predict(X_test)\n",
    "\n",
    "# Determince accuracy\n",
    "f1score_5 = f1_score(y_test, y_pred_5, average= 'macro')\n",
    "print('macro f1 score:', f1score_5)\n"
   ]
  },
  {
   "cell_type": "markdown",
   "id": "44c17f56",
   "metadata": {},
   "source": [
    "## 9. Model Evaluation\n",
    "Now we will compare the model accuracy scores and sort them in descending order."
   ]
  },
  {
   "cell_type": "code",
   "execution_count": 106,
   "id": "43321de4",
   "metadata": {},
   "outputs": [],
   "source": [
    "#Create a dictionary, and store the model name and score.\n",
    "model_comp = {'model_name' : ['MultinomialNB_1', 'LogisticRegression_1',\n",
    "                               'LinearSVC_1', 'KNN_1', 'RidgeC_model_1'\n",
    "                             ],\n",
    "                   'f1_score' : [f1score_1, f1score_2, \n",
    "                                 f1score_3 ,f1score_4,\n",
    "                                f1score_5\n",
    "                                ]\n",
    "                                 }\n",
    "\n",
    "# Create a DataFrame from the dictionary.\n",
    "model_comp_df = pd.DataFrame(model_comp)"
   ]
  },
  {
   "cell_type": "code",
   "execution_count": 107,
   "id": "5e89b420",
   "metadata": {},
   "outputs": [
    {
     "data": {
      "text/html": [
       "<div>\n",
       "<style scoped>\n",
       "    .dataframe tbody tr th:only-of-type {\n",
       "        vertical-align: middle;\n",
       "    }\n",
       "\n",
       "    .dataframe tbody tr th {\n",
       "        vertical-align: top;\n",
       "    }\n",
       "\n",
       "    .dataframe thead th {\n",
       "        text-align: right;\n",
       "    }\n",
       "</style>\n",
       "<table border=\"1\" class=\"dataframe\">\n",
       "  <thead>\n",
       "    <tr style=\"text-align: right;\">\n",
       "      <th></th>\n",
       "      <th>model_name</th>\n",
       "      <th>f1_score</th>\n",
       "    </tr>\n",
       "  </thead>\n",
       "  <tbody>\n",
       "    <tr>\n",
       "      <th>4</th>\n",
       "      <td>RidgeC_model_1</td>\n",
       "      <td>0.999389</td>\n",
       "    </tr>\n",
       "    <tr>\n",
       "      <th>0</th>\n",
       "      <td>MultinomialNB_1</td>\n",
       "      <td>0.998975</td>\n",
       "    </tr>\n",
       "    <tr>\n",
       "      <th>2</th>\n",
       "      <td>LinearSVC_1</td>\n",
       "      <td>0.998975</td>\n",
       "    </tr>\n",
       "    <tr>\n",
       "      <th>1</th>\n",
       "      <td>LogisticRegression_1</td>\n",
       "      <td>0.997841</td>\n",
       "    </tr>\n",
       "    <tr>\n",
       "      <th>3</th>\n",
       "      <td>KNN_1</td>\n",
       "      <td>0.950525</td>\n",
       "    </tr>\n",
       "  </tbody>\n",
       "</table>\n",
       "</div>"
      ],
      "text/plain": [
       "             model_name  f1_score\n",
       "4        RidgeC_model_1  0.999389\n",
       "0       MultinomialNB_1  0.998975\n",
       "2           LinearSVC_1  0.998975\n",
       "1  LogisticRegression_1  0.997841\n",
       "3                 KNN_1  0.950525"
      ]
     },
     "execution_count": 107,
     "metadata": {},
     "output_type": "execute_result"
    }
   ],
   "source": [
    "# Call the Data Frame and sort the scores in descending order.\n",
    "model_comp_df.sort_values('f1_score',ascending=False)\n",
    "\n"
   ]
  },
  {
   "cell_type": "markdown",
   "id": "aea9885e",
   "metadata": {},
   "source": [
    "## 10. Kaggle Submission\n",
    "Below is the code I use to create my Kaggel submission file, it follows the following steps:\n",
    "- Load the testing data 'test_set.csv'\n",
    "- Identify the features\n",
    "- Clean the data\n",
    "- Text to Numeric Transformation\n",
    "- Create a Prediction\n",
    "- Create a output data frame with the required columns\n",
    "- Save the data frame to a csv file"
   ]
  },
  {
   "cell_type": "code",
   "execution_count": 111,
   "id": "9fd33579",
   "metadata": {},
   "outputs": [],
   "source": [
    "# Load the testing data 'test_set.csv'\n",
    "test_df = pd.read_csv('data/test_set.csv')\n",
    "\n",
    "# Identify the features\n",
    "test_features = test_df['text']\n",
    "\n",
    "#Clean the data\n",
    "\n",
    "cleaned_data = []\n",
    "\n",
    "for i in range(len(test_features)):\n",
    "    tweet=test_features.iloc[i].lower()   \n",
    "    tweet = re.sub(r'[-]',' ',tweet)\n",
    "    tweet = re.sub(r'[_]', ' ', tweet)\n",
    "    tweet = re.sub(r'[^\\w\\s]','',tweet)\n",
    "    tweet = re.sub('[0-9]+', '', tweet)   \n",
    "    tweet = re.sub(\"\\\\s+\", \" \", tweet)\n",
    "    tweet = tweet.lstrip() \n",
    "    tweet = tweet.rstrip()\n",
    "   \n",
    "    cleaned_data.append(tweet)\n",
    "    \n",
    "# TrText to Numeric Transformation                        \n",
    "X_fin = count_vector_2.transform(cleaned_data).toarray() \n",
    "#Create a Prediction\n",
    "y_pred_test = RidgeC_model_1.predict(X_fin)\n",
    "#Create a output data frame with the required columns\n",
    "test_df['lang_id'] = y_pred_test\n",
    "output_df = test_df[['index', 'lang_id']]\n",
    "\n",
    "# Save the data frame to a csv file\n",
    "output_df.to_csv('Kaggel submission files/RidgeC_model_1.csv', index = False)"
   ]
  },
  {
   "cell_type": "markdown",
   "id": "93ff7599",
   "metadata": {},
   "source": [
    "Below is a screenshot of the model scores from the Kaggel Competition that can be found at https://www.kaggle.com/c/south-african-language-identification-2021"
   ]
  },
  {
   "cell_type": "code",
   "execution_count": 109,
   "id": "94361854",
   "metadata": {},
   "outputs": [
    {
     "data": {
      "image/png": "[encoded data removed]",
      "text/plain": [
       "<IPython.core.display.Image object>"
      ]
     },
     "execution_count": 109,
     "metadata": {},
     "output_type": "execute_result"
    }
   ],
   "source": [
    "Image(\"Kaggel submission files/kaggle submission proof.png\")"
   ]
  },
  {
   "cell_type": "markdown",
   "id": "6413f3f5",
   "metadata": {},
   "source": [
    "## 11. Conclusion\n",
    "\n",
    "As we can see from the training dataset the most accurate model is RidgeClassifier model with a score of 0.999389. If we look at the screenshot of the score from the Kaggel Competition we see that the RidgeClassifier model obtained a score of 0.95775 and the MultinomialNB model obtained a score of 0.95885 which is slightly higher. The difference between the scores of these two models are 0.001 which is small, therefore these models can be said to be equaly accurate.\n",
    "The predictive power of the models can be improved by additional processing and Hyperparameter tuning."
   ]
  },
  {
   "cell_type": "code",
   "execution_count": null,
   "id": "be79868e",
   "metadata": {},
   "outputs": [],
   "source": []
  }
 ],
 "metadata": {
  "kernelspec": {
   "display_name": "Python 3",
   "language": "python",
   "name": "python3"
  },
  "language_info": {
   "codemirror_mode": {
    "name": "ipython",
    "version": 3
   },
   "file_extension": ".py",
   "mimetype": "text/x-python",
   "name": "python",
   "nbconvert_exporter": "python",
   "pygments_lexer": "ipython3",
   "version": "3.8.8"
  }
 },
 "nbformat": 4,
 "nbformat_minor": 5
}
